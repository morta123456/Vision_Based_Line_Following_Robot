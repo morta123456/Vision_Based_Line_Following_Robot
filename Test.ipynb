{
 "cells": [
  {
   "cell_type": "code",
   "execution_count": null,
   "metadata": {},
   "outputs": [],
   "source": [
    "import numpy as np\n",
    "import cv2 as cv\n",
    "from matplotlib.pyplot import imshow\n",
    "from matplotlib import pyplot as plt\n",
    "from random import randint\n",
    "from math import *"
   ]
  },
  {
   "cell_type": "code",
   "execution_count": null,
   "metadata": {},
   "outputs": [],
   "source": [
    "def mask(img, choice):\n",
    "    # Gaussian blur\n",
    "    kernel_size = 21\n",
    "    blur_img = cv.GaussianBlur(img,(kernel_size, kernel_size),0)\n",
    "\n",
    "    if choice == 'blue':\n",
    "        # lower = np.array([100,30,16])\n",
    "        # upper = np.array([250,148,255])\n",
    "        lower = np.array([90, 100, 12])\n",
    "        upper = np.array([140, 255, 235])\n",
    "    elif choice == 'white':\n",
    "        lower = np.array([0,0,0])\n",
    "        upper = np.array([0,0,255])\n",
    "    elif choice == 'black':\n",
    "        lower = np.array([0,0,0])\n",
    "        upper = np.array([50,50,100])\n",
    "\n",
    "    image = cv.cvtColor(blur_img,cv.COLOR_BGR2HSV)\n",
    "    mask = cv.inRange(image, lower, upper)\n",
    "    return mask"
   ]
  },
  {
   "cell_type": "code",
   "execution_count": null,
   "metadata": {},
   "outputs": [],
   "source": [
    "def lerp(A, B, ratio):\n",
    "    return (A * ratio) + ((1 - ratio) * B)"
   ]
  },
  {
   "cell_type": "code",
   "execution_count": null,
   "metadata": {},
   "outputs": [],
   "source": [
    "def get_rect_direction(rect):\n",
    "    box = cv.boxPoints(rect)\n",
    "    start = lerp(box[0], box[3], 0.5)\n",
    "    end = lerp(box[1], box[2], 0.5)\n",
    "    angle = 90 - rect[2] \n",
    "    print(\"length : \", np.linalg.norm(box[0] - box[3]))\n",
    "    if np.linalg.norm(box[0] - box[3]) > np.linalg.norm(box[0] - box[1]):\n",
    "        start = lerp(box[0], box[1], 0.5)\n",
    "        end = lerp(box[2], box[3], 0.5)\n",
    "        angle += 90\n",
    "    print(\"angle : \", angle)\n",
    "\n",
    "    return start, end, angle"
   ]
  },
  {
   "cell_type": "code",
   "execution_count": null,
   "metadata": {},
   "outputs": [],
   "source": [
    "def rotate_vector(vec, angle_deg, anchor=None):\n",
    "    theta = np.deg2rad(angle_deg)\n",
    "    rot = np.array([\n",
    "        [cos(theta), -sin(theta)],\n",
    "        [sin(theta), cos(theta)]]    \n",
    "    )\n",
    "    if anchor is None:\n",
    "        anchor = (0,0)\n",
    "    return np.dot(rot, vec - anchor) + anchor"
   ]
  },
  {
   "cell_type": "code",
   "execution_count": null,
   "metadata": {},
   "outputs": [],
   "source": [
    "cap = cv.VideoCapture(0)\n",
    "if not cap.isOpened():\n",
    "    print(\"Cannot open camera\")\n",
    "    exit()\n",
    "\n",
    "cap.set(cv.CAP_PROP_FRAME_HEIGHT, 240)\n",
    "cap.set(cv.CAP_PROP_FRAME_WIDTH, 352)\n",
    "while True:\n",
    "    # Capture frame-by-frame\n",
    "    ret, frame = cap.read()\n",
    "    # if frame is read correctly ret is True\n",
    "    if not ret:\n",
    "        print(\"Can't receive frame (stream end?). Exiting ...\")\n",
    "        break\n",
    "    # Our operations on the frame come here\n",
    "    processed_img = mask(frame, 'blue')\n",
    "    # Display the resulting frame\n",
    "    cv.imshow('frame', processed_img)\n",
    "    if cv.waitKey(1) == ord('q'):\n",
    "        break\n",
    "# When everything done, release the capture\n",
    "cap.release()\n",
    "cv.destroyAllWindows()"
   ]
  },
  {
   "cell_type": "code",
   "execution_count": null,
   "metadata": {},
   "outputs": [],
   "source": [
    "stream = cv.VideoCapture(0)\n",
    "if not stream.isOpened():\n",
    "    print(\"Cannot open camera\")\n",
    "    exit(-1)\n",
    "stream.set(cv.CAP_PROP_FRAME_HEIGHT, 240)\n",
    "stream.set(cv.CAP_PROP_FRAME_WIDTH, 352)\n",
    "\n",
    "color = (randint(0,256), randint(0,256), randint(0,256))\n",
    "\n",
    "while stream.isOpened():\n",
    "    ret, frame = stream.read()\n",
    "    if not ret:\n",
    "        print(\"Cannot read frame from camera\")\n",
    "        exit(-1)\n",
    "\n",
    "    #Crop l'image\n",
    "    # frame = frame[frame.shape[0] // 2:, :]scipy homogeneous transformation\n",
    "\n",
    "    # Masquage de l'image par rapport àà un couleur\n",
    "    m = mask(frame, \"blue\")\n",
    "    cv.imshow('mask', m)\n",
    "\n",
    "    # Récupération des contours\n",
    "    contours, hierarchy = cv.findContours(m, cv.RETR_TREE, cv.CHAIN_APPROX_SIMPLE)\n",
    "    cv.drawContours(frame, contours, -1, (0,255,0), 1)\n",
    "\n",
    "    cv.imshow('frame', frame)\n",
    "    if len(contours) > 0:\n",
    "        # On considère le contour le plus étendu et on calcule une bounding box orientée\n",
    "        countour = max(contours, key=cv.contourArea)\n",
    "        minRect = cv.minAreaRect(countour)\n",
    "        drawing = np.zeros((frame.shape[0], frame.shape[1], 3), dtype=np.uint8)\n",
    "\n",
    "        start, end, angle = get_rect_direction(minRect)\n",
    "        cv.line(drawing, np.int0(start), np.int0(end), color)\n",
    "        cv.imshow(\"boxes\", drawing)\n",
    "\n",
    "    if cv.waitKey(1) == ord('q'):\n",
    "        break\n",
    "stream.release()\n",
    "cv.destroyAllWindows()"
   ]
  },
  {
   "cell_type": "code",
   "execution_count": null,
   "metadata": {},
   "outputs": [],
   "source": [
    "stream.release()\n",
    "stream = cv.VideoCapture(0)\n",
    "\n",
    "if not stream.isOpened():\n",
    "    print(\"Cannot open camera\")\n",
    "    exit(-1)\n",
    "    \n",
    "stream.set(cv.CAP_PROP_FRAME_HEIGHT, 240)\n",
    "stream.set(cv.CAP_PROP_FRAME_WIDTH, 352)\n",
    "\n",
    "\n",
    "ret, frame = stream.read()\n",
    "if not ret:\n",
    "    print(\"Cannot read frame from camera\")\n",
    "    exit(-1)\n",
    "\n",
    "cv.imwrite(\"benchmark.png\", frame)"
   ]
  }
 ],
 "metadata": {
  "kernelspec": {
   "display_name": "Python 3",
   "language": "python",
   "name": "python3"
  },
  "language_info": {
   "codemirror_mode": {
    "name": "ipython",
    "version": 3
   },
   "file_extension": ".py",
   "mimetype": "text/x-python",
   "name": "python",
   "nbconvert_exporter": "python",
   "pygments_lexer": "ipython3",
   "version": "3.10.13"
  },
  "orig_nbformat": 4
 },
 "nbformat": 4,
 "nbformat_minor": 2
}
